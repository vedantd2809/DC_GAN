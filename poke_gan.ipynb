{
  "nbformat": 4,
  "nbformat_minor": 0,
  "metadata": {
    "kernelspec": {
      "language": "python",
      "display_name": "Python 3",
      "name": "python3"
    },
    "language_info": {
      "name": "python",
      "version": "3.7.10",
      "mimetype": "text/x-python",
      "codemirror_mode": {
        "name": "ipython",
        "version": 3
      },
      "pygments_lexer": "ipython3",
      "nbconvert_exporter": "python",
      "file_extension": ".py"
    },
    "colab": {
      "name": "poke-gan.ipynb",
      "provenance": [],
      "collapsed_sections": [],
      "include_colab_link": true
    },
    "accelerator": "GPU"
  },
  "cells": [
    {
      "cell_type": "markdown",
      "metadata": {
        "id": "view-in-github",
        "colab_type": "text"
      },
      "source": [
        "<a href=\"https://colab.research.google.com/github/vedantd2809/DC_GAN/blob/main/poke_gan.ipynb\" target=\"_parent\"><img src=\"https://colab.research.google.com/assets/colab-badge.svg\" alt=\"Open In Colab\"/></a>"
      ]
    },
    {
      "cell_type": "code",
      "metadata": {
        "id": "OiDmGby0Nyqy"
      },
      "source": [
        "from google.colab import drive\n",
        "! pip install -q kaggle"
      ],
      "execution_count": null,
      "outputs": []
    },
    {
      "cell_type": "code",
      "metadata": {
        "id": "DlFZh6feJu8d"
      },
      "source": [
        "from google.colab import files"
      ],
      "execution_count": null,
      "outputs": []
    },
    {
      "cell_type": "code",
      "metadata": {
        "colab": {
          "base_uri": "https://localhost:8080/"
        },
        "id": "Q4pJ1S-pjMz1",
        "outputId": "e53508da-d0d0-4063-cecb-a04979192084"
      },
      "source": [
        "from google.colab import drive\n",
        "drive.mount('/content/drive')"
      ],
      "execution_count": null,
      "outputs": [
        {
          "output_type": "stream",
          "text": [
            "Mounted at /content/drive\n"
          ],
          "name": "stdout"
        }
      ]
    },
    {
      "cell_type": "code",
      "metadata": {
        "colab": {
          "base_uri": "https://localhost:8080/"
        },
        "id": "zskV8lrdObo8",
        "outputId": "c7286c26-f98d-4e76-f90e-cbe024f8cfee"
      },
      "source": [
        "%cd /content/drive/MyDrive/kaggle/pokemon/"
      ],
      "execution_count": null,
      "outputs": [
        {
          "output_type": "stream",
          "text": [
            "/content/drive/MyDrive/kaggle/pokemon\n"
          ],
          "name": "stdout"
        }
      ]
    },
    {
      "cell_type": "code",
      "metadata": {
        "id": "iYHrSWaLObtC"
      },
      "source": [
        "# !unzip /content/drive/MyDrive/kaggle/pokemon/archive.zip -d pokemon"
      ],
      "execution_count": 91,
      "outputs": []
    },
    {
      "cell_type": "code",
      "metadata": {
        "id": "YYZajReOObv8"
      },
      "source": [
        ""
      ],
      "execution_count": null,
      "outputs": []
    },
    {
      "cell_type": "code",
      "metadata": {
        "execution": {
          "iopub.status.busy": "2021-06-15T14:33:14.970111Z",
          "iopub.execute_input": "2021-06-15T14:33:14.970679Z",
          "iopub.status.idle": "2021-06-15T14:33:21.816690Z",
          "shell.execute_reply.started": "2021-06-15T14:33:14.970585Z",
          "shell.execute_reply": "2021-06-15T14:33:21.815468Z"
        },
        "trusted": true,
        "id": "eGE3Y2VgGyZF"
      },
      "source": [
        "import os\n",
        "import numpy as np\n",
        "import tensorflow as tf\n",
        "from tensorflow.keras.layers import Input,Reshape, Flatten, Dense , LeakyReLU, BatchNormalization, Dropout\n",
        "from tensorflow.keras import Sequential\n",
        "from tensorflow import keras\n",
        "from tensorflow.keras.models import Model\n",
        "from tensorflow.keras.layers import Conv2D,Conv2DTranspose,Reshape, Dense, LeakyReLU, Dropout, BatchNormalization,Concatenate,ReLU,LeakyReLU,Activation,Input,MaxPool2D,MaxPooling2D\n",
        "from keras.layers import Add\n",
        "from tensorflow.keras.optimizers import Adam, SGD\n",
        "import cv2\n",
        "from cv2 import resize\n",
        "import matplotlib.pyplot as plt"
      ],
      "execution_count": null,
      "outputs": []
    },
    {
      "cell_type": "code",
      "metadata": {
        "execution": {
          "iopub.status.busy": "2021-06-15T14:33:21.818656Z",
          "iopub.execute_input": "2021-06-15T14:33:21.819251Z",
          "iopub.status.idle": "2021-06-15T14:33:21.829719Z",
          "shell.execute_reply.started": "2021-06-15T14:33:21.819204Z",
          "shell.execute_reply": "2021-06-15T14:33:21.828126Z"
        },
        "trusted": true,
        "colab": {
          "base_uri": "https://localhost:8080/"
        },
        "id": "cIkaJlyZGyZK",
        "outputId": "5359ddec-5d1a-4245-92f3-38e1cdc524a2"
      },
      "source": [
        "HEIGHT = 128\n",
        "WIDTH = 128\n",
        "CHANNEL = 3\n",
        "HW = HEIGHT*WIDTH\n",
        "img_sh = HEIGHT,WIDTH,CHANNEL\n",
        "d = HEIGHT*WIDTH*CHANNEL\n",
        "img_sh"
      ],
      "execution_count": null,
      "outputs": [
        {
          "output_type": "execute_result",
          "data": {
            "text/plain": [
              "(128, 128, 3)"
            ]
          },
          "metadata": {
            "tags": []
          },
          "execution_count": 14
        }
      ]
    },
    {
      "cell_type": "code",
      "metadata": {
        "execution": {
          "iopub.status.busy": "2021-06-15T14:33:21.832945Z",
          "iopub.execute_input": "2021-06-15T14:33:21.833421Z",
          "iopub.status.idle": "2021-06-15T14:33:21.841414Z",
          "shell.execute_reply.started": "2021-06-15T14:33:21.833369Z",
          "shell.execute_reply": "2021-06-15T14:33:21.840399Z"
        },
        "trusted": true,
        "id": "fLa6dT1iGyZM"
      },
      "source": [
        "# def lrelu(x,n,leak = 0.2):\n",
        "#     return tf.maximum(x,leak = x,name = n)"
      ],
      "execution_count": null,
      "outputs": []
    },
    {
      "cell_type": "code",
      "metadata": {
        "execution": {
          "iopub.status.busy": "2021-06-15T14:33:21.842829Z",
          "iopub.execute_input": "2021-06-15T14:33:21.843495Z",
          "iopub.status.idle": "2021-06-15T14:33:25.722185Z",
          "shell.execute_reply.started": "2021-06-15T14:33:21.843459Z",
          "shell.execute_reply": "2021-06-15T14:33:25.721062Z"
        },
        "trusted": true,
        "id": "FeV_z_3KGyZM"
      },
      "source": [
        "path = '/content/drive/MyDrive/kaggle/pokemon/pokemon/images/images/'\n",
        "a = sorted(os.listdir(path))\n"
      ],
      "execution_count": null,
      "outputs": []
    },
    {
      "cell_type": "code",
      "metadata": {
        "colab": {
          "base_uri": "https://localhost:8080/",
          "height": 268
        },
        "id": "w4hMB1lMkBx1",
        "outputId": "89729ab4-f1f4-4a03-ac8b-056044c79eed"
      },
      "source": [
        "a = sorted(os.listdir(path))\n",
        "img = []\n",
        "for i in a:\n",
        "    b = cv2.imread(path+i)\n",
        "    b = cv2.resize(b,(HEIGHT,WIDTH))\n",
        "    b = b.reshape(128,128,3)\n",
        "    img.append(b)\n",
        "\n",
        "plt.imshow(img[2])\n",
        "img = np.array(img)\n",
        "img = img / 255.0\n",
        "# img = img.reshape(-1)"
      ],
      "execution_count": null,
      "outputs": [
        {
          "output_type": "display_data",
          "data": {
            "image/png": "[encoded data removed]",
            "text/plain": [
              "<Figure size 432x288 with 1 Axes>"
            ]
          },
          "metadata": {
            "tags": [],
            "needs_background": "light"
          }
        }
      ]
    },
    {
      "cell_type": "code",
      "metadata": {
        "id": "6Gq120osrS7D"
      },
      "source": [
        ""
      ],
      "execution_count": null,
      "outputs": []
    },
    {
      "cell_type": "code",
      "metadata": {
        "execution": {
          "iopub.status.busy": "2021-06-15T14:33:25.723851Z",
          "iopub.execute_input": "2021-06-15T14:33:25.724304Z",
          "iopub.status.idle": "2021-06-15T14:33:25.731842Z",
          "shell.execute_reply.started": "2021-06-15T14:33:25.724255Z",
          "shell.execute_reply": "2021-06-15T14:33:25.730428Z"
        },
        "trusted": true,
        "colab": {
          "base_uri": "https://localhost:8080/"
        },
        "id": "DhMahrbvGyZN",
        "outputId": "bd28d3e2-a414-44e4-c53c-27b27c7abd0a"
      },
      "source": [
        "img.shape"
      ],
      "execution_count": null,
      "outputs": [
        {
          "output_type": "execute_result",
          "data": {
            "text/plain": [
              "(809, 128, 128, 3)"
            ]
          },
          "metadata": {
            "tags": []
          },
          "execution_count": 34
        }
      ]
    },
    {
      "cell_type": "code",
      "metadata": {
        "execution": {
          "iopub.status.busy": "2021-06-15T14:33:25.733988Z",
          "iopub.execute_input": "2021-06-15T14:33:25.734454Z",
          "iopub.status.idle": "2021-06-15T14:33:25.745340Z",
          "shell.execute_reply.started": "2021-06-15T14:33:25.734406Z",
          "shell.execute_reply": "2021-06-15T14:33:25.744023Z"
        },
        "trusted": true,
        "id": "Wg5xllP-GyZN"
      },
      "source": [
        "def discriminator_model(img_sh):\n",
        "    \n",
        "    i = Input(shape=(img_sh))\n",
        "    \n",
        "    x = Flatten()(i)\n",
        "\n",
        "    x = Dense(1024,activation=LeakyReLU())(x)\n",
        "    \n",
        "    x = Dense(512,activation=LeakyReLU())(x)\n",
        "    \n",
        "    x = Dense(256,activation=LeakyReLU())(x)\n",
        "    \n",
        "    x = Dense(1,activation='sigmoid')(x)\n",
        "    \n",
        "    model = Model(i,x)\n",
        "    return model"
      ],
      "execution_count": null,
      "outputs": []
    },
    {
      "cell_type": "code",
      "metadata": {
        "execution": {
          "iopub.status.busy": "2021-06-15T14:33:25.746931Z",
          "iopub.execute_input": "2021-06-15T14:33:25.747403Z",
          "iopub.status.idle": "2021-06-15T14:33:25.981072Z",
          "shell.execute_reply.started": "2021-06-15T14:33:25.747356Z",
          "shell.execute_reply": "2021-06-15T14:33:25.979727Z"
        },
        "trusted": true,
        "colab": {
          "base_uri": "https://localhost:8080/"
        },
        "id": "u2u5jArsGyZO",
        "outputId": "1ceae33f-b52a-4d29-c25c-00cb384844b7"
      },
      "source": [
        "latent_dim = 100\n",
        "\n",
        "def generator_model(latent_dim):\n",
        "    \n",
        "    i = Input(shape=(latent_dim,))\n",
        "    x = Dense(16*16*64, use_bias=False, input_shape=(100,))(i)\n",
        "#     x = Reshape(128,128,3)(x)\n",
        "    x = BatchNormalization()(x)\n",
        "    x = LeakyReLU()(x)\n",
        "\n",
        "    x = Reshape((8,8,256))(x)\n",
        "\n",
        "    x = Conv2DTranspose(128, (5, 5), strides=(2,2), padding='same', use_bias=False)(x)\n",
        "    x = BatchNormalization()(x)\n",
        "    x = LeakyReLU()(x)\n",
        "\n",
        "    x = Conv2DTranspose(64, (5, 5), strides=(2, 2), padding='same', use_bias=False)(x)\n",
        "    x = BatchNormalization()(x)\n",
        "    x = LeakyReLU()(x)\n",
        "\n",
        "    x = Conv2DTranspose(32, (5, 5), strides=(2, 2), padding='same', use_bias=False,)(x)\n",
        "    x = BatchNormalization()(x)\n",
        "    x = LeakyReLU()(x)\n",
        "    \n",
        "    \n",
        "    x = Conv2DTranspose(3, (5, 5), strides=(2), padding='same', use_bias=False, activation='tanh')(x)\n",
        "    \n",
        "    \n",
        "    model = Model(i,x)\n",
        "\n",
        "    return model\n",
        "\n",
        "\n",
        "generator_model(latent_dim).summary()"
      ],
      "execution_count": null,
      "outputs": [
        {
          "output_type": "stream",
          "text": [
            "Model: \"model_4\"\n",
            "_________________________________________________________________\n",
            "Layer (type)                 Output Shape              Param #   \n",
            "=================================================================\n",
            "input_8 (InputLayer)         [(None, 100)]             0         \n",
            "_________________________________________________________________\n",
            "dense_9 (Dense)              (None, 16384)             1638400   \n",
            "_________________________________________________________________\n",
            "batch_normalization_14 (Batc (None, 16384)             65536     \n",
            "_________________________________________________________________\n",
            "leaky_re_lu_17 (LeakyReLU)   (None, 16384)             0         \n",
            "_________________________________________________________________\n",
            "reshape_5 (Reshape)          (None, 8, 8, 256)         0         \n",
            "_________________________________________________________________\n",
            "conv2d_transpose_12 (Conv2DT (None, 16, 16, 128)       819200    \n",
            "_________________________________________________________________\n",
            "batch_normalization_15 (Batc (None, 16, 16, 128)       512       \n",
            "_________________________________________________________________\n",
            "leaky_re_lu_18 (LeakyReLU)   (None, 16, 16, 128)       0         \n",
            "_________________________________________________________________\n",
            "conv2d_transpose_13 (Conv2DT (None, 32, 32, 64)        204800    \n",
            "_________________________________________________________________\n",
            "batch_normalization_16 (Batc (None, 32, 32, 64)        256       \n",
            "_________________________________________________________________\n",
            "leaky_re_lu_19 (LeakyReLU)   (None, 32, 32, 64)        0         \n",
            "_________________________________________________________________\n",
            "conv2d_transpose_14 (Conv2DT (None, 64, 64, 32)        51200     \n",
            "_________________________________________________________________\n",
            "batch_normalization_17 (Batc (None, 64, 64, 32)        128       \n",
            "_________________________________________________________________\n",
            "leaky_re_lu_20 (LeakyReLU)   (None, 64, 64, 32)        0         \n",
            "_________________________________________________________________\n",
            "conv2d_transpose_15 (Conv2DT (None, 128, 128, 3)       2400      \n",
            "=================================================================\n",
            "Total params: 2,782,432\n",
            "Trainable params: 2,749,216\n",
            "Non-trainable params: 33,216\n",
            "_________________________________________________________________\n"
          ],
          "name": "stdout"
        }
      ]
    },
    {
      "cell_type": "code",
      "metadata": {
        "execution": {
          "iopub.status.busy": "2021-06-15T14:33:25.983336Z",
          "iopub.execute_input": "2021-06-15T14:33:25.983648Z",
          "iopub.status.idle": "2021-06-15T14:33:26.630274Z",
          "shell.execute_reply.started": "2021-06-15T14:33:25.983619Z",
          "shell.execute_reply": "2021-06-15T14:33:26.628942Z"
        },
        "trusted": true,
        "colab": {
          "base_uri": "https://localhost:8080/"
        },
        "id": "qy_j4GKIGyZP",
        "outputId": "a52dab49-2d3a-4602-d39d-c2e433b4e6e6"
      },
      "source": [
        "discriminator = discriminator_model(img_sh)\n",
        "discriminator.compile( loss='binary_crossentropy', optimizer=Adam(0.0002, 0.5),\n",
        "                      metrics=['accuracy'])\n",
        "\n",
        "generator = generator_model(100)\n",
        "discriminator.summary()"
      ],
      "execution_count": null,
      "outputs": [
        {
          "output_type": "stream",
          "text": [
            "Model: \"model_5\"\n",
            "_________________________________________________________________\n",
            "Layer (type)                 Output Shape              Param #   \n",
            "=================================================================\n",
            "input_9 (InputLayer)         [(None, 128, 128, 3)]     0         \n",
            "_________________________________________________________________\n",
            "flatten_1 (Flatten)          (None, 49152)             0         \n",
            "_________________________________________________________________\n",
            "dense_10 (Dense)             (None, 1024)              50332672  \n",
            "_________________________________________________________________\n",
            "dense_11 (Dense)             (None, 512)               524800    \n",
            "_________________________________________________________________\n",
            "dense_12 (Dense)             (None, 256)               131328    \n",
            "_________________________________________________________________\n",
            "dense_13 (Dense)             (None, 1)                 257       \n",
            "=================================================================\n",
            "Total params: 50,989,057\n",
            "Trainable params: 50,989,057\n",
            "Non-trainable params: 0\n",
            "_________________________________________________________________\n"
          ],
          "name": "stdout"
        }
      ]
    },
    {
      "cell_type": "code",
      "metadata": {
        "execution": {
          "iopub.status.busy": "2021-06-15T14:33:26.631860Z",
          "iopub.execute_input": "2021-06-15T14:33:26.632189Z",
          "iopub.status.idle": "2021-06-15T14:33:26.638535Z",
          "shell.execute_reply.started": "2021-06-15T14:33:26.632120Z",
          "shell.execute_reply": "2021-06-15T14:33:26.637750Z"
        },
        "trusted": true,
        "colab": {
          "base_uri": "https://localhost:8080/"
        },
        "id": "S89yl60tGyZQ",
        "outputId": "a5da5100-f0f7-4bd3-8b12-7ad0d4a5a8a7"
      },
      "source": [
        "z = Input(shape=(latent_dim,))\n",
        "z.shape"
      ],
      "execution_count": null,
      "outputs": [
        {
          "output_type": "execute_result",
          "data": {
            "text/plain": [
              "TensorShape([None, 100])"
            ]
          },
          "metadata": {
            "tags": []
          },
          "execution_count": 45
        }
      ]
    },
    {
      "cell_type": "code",
      "metadata": {
        "execution": {
          "iopub.status.busy": "2021-06-15T14:33:26.639746Z",
          "iopub.execute_input": "2021-06-15T14:33:26.640237Z",
          "iopub.status.idle": "2021-06-15T14:33:26.720298Z",
          "shell.execute_reply.started": "2021-06-15T14:33:26.640191Z",
          "shell.execute_reply": "2021-06-15T14:33:26.719476Z"
        },
        "trusted": true,
        "colab": {
          "base_uri": "https://localhost:8080/"
        },
        "id": "YkcblSwZGyZQ",
        "outputId": "5fcfc755-57cd-4641-9242-5929e0281580"
      },
      "source": [
        "gen = generator(z)\n",
        "gen"
      ],
      "execution_count": null,
      "outputs": [
        {
          "output_type": "execute_result",
          "data": {
            "text/plain": [
              "<KerasTensor: shape=(None, 128, 128, 3) dtype=float32 (created by layer 'model_6')>"
            ]
          },
          "metadata": {
            "tags": []
          },
          "execution_count": 46
        }
      ]
    },
    {
      "cell_type": "code",
      "metadata": {
        "execution": {
          "iopub.status.busy": "2021-06-15T14:33:26.721443Z",
          "iopub.execute_input": "2021-06-15T14:33:26.721910Z",
          "iopub.status.idle": "2021-06-15T14:33:26.745461Z",
          "shell.execute_reply.started": "2021-06-15T14:33:26.721865Z",
          "shell.execute_reply": "2021-06-15T14:33:26.744476Z"
        },
        "trusted": true,
        "id": "CBU0sYuVGyZR"
      },
      "source": [
        "discriminator.trainable = False\n",
        "fake_pred = discriminator(gen)"
      ],
      "execution_count": null,
      "outputs": []
    },
    {
      "cell_type": "code",
      "metadata": {
        "execution": {
          "iopub.status.busy": "2021-06-15T14:33:26.746727Z",
          "iopub.execute_input": "2021-06-15T14:33:26.747043Z",
          "iopub.status.idle": "2021-06-15T14:33:26.764178Z",
          "shell.execute_reply.started": "2021-06-15T14:33:26.747011Z",
          "shell.execute_reply": "2021-06-15T14:33:26.762900Z"
        },
        "trusted": true,
        "id": "8oNHwsfHGyZR"
      },
      "source": [
        "combined_model = Model(z, fake_pred)\n",
        "\n",
        "combined_model.compile(loss='binary_crossentropy', optimizer=Adam(0.0002, 0.5))"
      ],
      "execution_count": null,
      "outputs": []
    },
    {
      "cell_type": "code",
      "metadata": {
        "execution": {
          "iopub.status.busy": "2021-06-15T14:33:26.765842Z",
          "iopub.execute_input": "2021-06-15T14:33:26.766405Z",
          "iopub.status.idle": "2021-06-15T14:33:26.775348Z",
          "shell.execute_reply.started": "2021-06-15T14:33:26.766369Z",
          "shell.execute_reply": "2021-06-15T14:33:26.773966Z"
        },
        "trusted": true,
        "id": "wspeJRjTGyZS"
      },
      "source": [
        "batch_size = 128\n",
        "epochs = 1000\n",
        "sample_period = 500"
      ],
      "execution_count": 77,
      "outputs": []
    },
    {
      "cell_type": "code",
      "metadata": {
        "execution": {
          "iopub.status.busy": "2021-06-15T14:33:26.776536Z",
          "iopub.execute_input": "2021-06-15T14:33:26.776894Z",
          "iopub.status.idle": "2021-06-15T14:33:26.788591Z",
          "shell.execute_reply.started": "2021-06-15T14:33:26.776864Z",
          "shell.execute_reply": "2021-06-15T14:33:26.787386Z"
        },
        "trusted": true,
        "id": "HEFD0RiwGyZS"
      },
      "source": [
        "zeros = np.zeros(batch_size)\n",
        "ones = np.ones(batch_size)\n",
        "\n",
        "d_losses = []\n",
        "g_losses = []\n",
        "\n",
        "if not os.path.exists('gan_img'):\n",
        "    os.makedirs('gan_img')"
      ],
      "execution_count": null,
      "outputs": []
    },
    {
      "cell_type": "code",
      "metadata": {
        "execution": {
          "iopub.status.busy": "2021-06-15T14:33:26.790081Z",
          "iopub.execute_input": "2021-06-15T14:33:26.790516Z",
          "iopub.status.idle": "2021-06-15T14:33:26.803582Z",
          "shell.execute_reply.started": "2021-06-15T14:33:26.790474Z",
          "shell.execute_reply": "2021-06-15T14:33:26.802470Z"
        },
        "trusted": true,
        "id": "BTveCcvFGyZS"
      },
      "source": [
        "def sample_images(a):\n",
        "    rows, cols = 2,2\n",
        "    noise = np.random.normal(0,1,(rows * cols, latent_dim))\n",
        "    imgs = generator.predict(noise)\n",
        "\n",
        "\n",
        "    imgs = 0.5 * imgs + 0.5\n",
        "\n",
        "    fig, axs = plt.subplots(rows,cols)\n",
        "    idx = 0\n",
        "    for i in range(rows):\n",
        "        for j in range(cols):\n",
        "            axs[i,j].imshow(imgs[idx,:,:,0].reshape(HEIGHT,WIDTH), cmap = 'gray')\n",
        "            axs[i,j].axis('off')\n",
        "            idx += 1 \n",
        "    fig.savefig(\"gan_img/f%d.png\"% a)\n",
        "    plt.close()"
      ],
      "execution_count": 78,
      "outputs": []
    },
    {
      "cell_type": "code",
      "metadata": {
        "execution": {
          "iopub.status.busy": "2021-06-15T14:33:27.404623Z",
          "iopub.execute_input": "2021-06-15T14:33:27.405003Z"
        },
        "trusted": true,
        "colab": {
          "base_uri": "https://localhost:8080/"
        },
        "id": "R-0nUroRGyZT",
        "outputId": "aba431b6-70f5-4d51-b324-486ddaa05e76"
      },
      "source": [
        "for epoch in range(epochs):\n",
        "      \n",
        "    idx = np.random.randint(0, img.shape[0], batch_size)\n",
        "    real_imgs = img[idx]\n",
        "    \n",
        "    \n",
        "    noise = np.random.randn(batch_size, latent_dim)\n",
        "    fake_imgs = generator.predict(noise)\n",
        "    \n",
        "    \n",
        "#     plt.imshow(fake_imgs)\n",
        "    \n",
        "    d_loss_real, d_acc_real = discriminator.train_on_batch(real_imgs, ones)\n",
        "    d_loss_fake, d_acc_fake = discriminator.train_on_batch(fake_imgs, zeros)\n",
        "\n",
        "    d_loss = 0.5 * (d_loss_real + d_loss_fake)\n",
        "    d_acc  = 0.5 * (d_acc_real + d_acc_fake)\n",
        "    \n",
        "    noise = np.random.randn(batch_size, latent_dim)\n",
        "    g_loss = combined_model.train_on_batch(noise, ones)\n",
        "    \n",
        "    \n",
        "    noise = np.random.randn(batch_size, latent_dim)\n",
        "    g_loss = combined_model.train_on_batch(noise, ones)\n",
        "    \n",
        "    \n",
        "    d_losses.append(d_loss)\n",
        "    g_losses.append(g_loss)\n",
        "    \n",
        "    if epoch % 100 == 0:\n",
        "        print(f\"epoch: {epoch+1}/{epochs}, d_loss: {d_loss:.2f}, \\\n",
        "        d_acc: {d_acc:.2f}, g_loss: {g_loss:.2f}\")\n",
        "    \n",
        "    if epoch % 100 == 0:\n",
        "        sample_images(epoch)"
      ],
      "execution_count": 86,
      "outputs": [
        {
          "output_type": "stream",
          "text": [
            "epoch: 1/1000, d_loss: 0.18,         d_acc: 0.95, g_loss: 2.45\n",
            "epoch: 101/1000, d_loss: 0.16,         d_acc: 0.95, g_loss: 2.45\n",
            "epoch: 201/1000, d_loss: 0.21,         d_acc: 0.95, g_loss: 2.67\n",
            "epoch: 301/1000, d_loss: 0.18,         d_acc: 0.95, g_loss: 2.57\n",
            "epoch: 401/1000, d_loss: 0.28,         d_acc: 0.93, g_loss: 2.56\n",
            "epoch: 501/1000, d_loss: 0.05,         d_acc: 0.98, g_loss: 0.03\n",
            "epoch: 601/1000, d_loss: 0.62,         d_acc: 0.59, g_loss: 11.42\n",
            "epoch: 701/1000, d_loss: 0.36,         d_acc: 0.92, g_loss: 3.11\n",
            "epoch: 801/1000, d_loss: 0.31,         d_acc: 0.94, g_loss: 2.83\n",
            "epoch: 901/1000, d_loss: 0.23,         d_acc: 0.95, g_loss: 2.69\n"
          ],
          "name": "stdout"
        }
      ]
    },
    {
      "cell_type": "code",
      "metadata": {
        "execution": {
          "iopub.status.busy": "2021-06-15T14:33:26.805450Z",
          "iopub.execute_input": "2021-06-15T14:33:26.805883Z",
          "iopub.status.idle": "2021-06-15T14:33:27.403018Z",
          "shell.execute_reply.started": "2021-06-15T14:33:26.805824Z",
          "shell.execute_reply": "2021-06-15T14:33:27.402099Z"
        },
        "trusted": true,
        "id": "r98xvlquGyZT"
      },
      "source": [
        "noise2 = np.random.rand(1,latent_dim)\n",
        "l = generator.predict(noise2)\n",
        "# plt.imshow(l[0])"
      ],
      "execution_count": 90,
      "outputs": []
    },
    {
      "cell_type": "code",
      "metadata": {
        "id": "r1MCa9MuGyZU"
      },
      "source": [
        ""
      ],
      "execution_count": null,
      "outputs": []
    },
    {
      "cell_type": "code",
      "metadata": {
        "id": "8kBL7nG7GyZV"
      },
      "source": [
        ""
      ],
      "execution_count": null,
      "outputs": []
    }
  ]
}